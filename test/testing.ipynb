{
 "cells": [
  {
   "cell_type": "code",
   "execution_count": null,
   "metadata": {},
   "outputs": [],
   "source": [
    "# Import the module\n",
    "from vrp_solver_ignore import Solver_Ignore_Multiplicity, vrp_graph, Solver_Classic, Solver_Ignore, Solver_Incremental, Solver_KBest\n",
    "\n",
    "\n",
    "# Step 1: Generate a random graph\n",
    "n_customers = 16# Number of customers in the VRP\n",
    "seed = 4643      # Seed for random number generation\n",
    "capacity = 0.2  # Vehicle capacity, set to 25% of total capacity\n",
    "\n",
    "# Generate the random graph\n",
    "graph_tuple = vrp_graph.generate_random_graph(n_customers, seed, capacity)\n",
    "\n",
    "# Unpack the returned tuple\n",
    "graph = graph_tuple[0]  # The Graph object\n",
    "vec1 = graph_tuple[1]   # X axis of the generated points\n",
    "vec2 = graph_tuple[2]   # Y axis of the generated points\n",
    "\n",
    "# Step 2: Inspect properties of the graph\n",
    "print(\"Graph Properties:\")\n",
    "print(\"=================\")\n",
    "print(f\"Number of vertices: {graph.n_vertices()}\")\n",
    "print(f\"Number of customers: {graph.n_customers()}\")\n",
    "print(f\"Departing depot index: {graph.departing_depot()}\")\n",
    "print(f\"Returning depot index: {graph.returning_depot()}\")\n",
    "print(f\"Capacity: {graph.capacity()}\")\n",
    "\n",
    "# Get customer indices\n",
    "customers = list(graph.customers())\n",
    "print(f\"Customer indices: {customers}\")\n",
    "\n",
    "# Print demands for each vertex\n",
    "print(\"\\nVertex Demands:\")\n",
    "print(\"===============\")\n",
    "for i in range(graph.n_vertices()):\n",
    "    demand = graph.demand(i)\n",
    "    print(f\"Vertex {i}: Demand = {demand}\")\n",
    "\n",
    "# Print costs between some pairs of vertices\n",
    "print(\"\\nSample Costs Between Vertices:\")\n",
    "print(\"==============================\")\n",
    "for i in customers:\n",
    "    for j in customers:\n",
    "        if (i != j):\n",
    "            cost = graph.cost(i, j)\n",
    "            print(f\"Cost from vertex {i} to vertex {j}: {cost}\")\n",
    "\n",
    "\n"
   ]
  },
  {
   "cell_type": "code",
   "execution_count": null,
   "metadata": {},
   "outputs": [],
   "source": [
    "\n",
    "solver1 = Solver_Classic(graph)\n",
    "solver1.solve()"
   ]
  },
  {
   "cell_type": "code",
   "execution_count": null,
   "metadata": {},
   "outputs": [],
   "source": [
    "solver2 = Solver_Incremental(graph)\n",
    "solver2.solve()"
   ]
  },
  {
   "cell_type": "code",
   "execution_count": null,
   "metadata": {},
   "outputs": [],
   "source": [
    "solver3 = Solver_KBest(graph)\n",
    "solver3.solve(10)"
   ]
  },
  {
   "cell_type": "code",
   "execution_count": null,
   "metadata": {},
   "outputs": [],
   "source": [
    "solver4 = Solver_Ignore(graph)\n",
    "solver4.solve()"
   ]
  },
  {
   "cell_type": "code",
   "execution_count": null,
   "metadata": {},
   "outputs": [],
   "source": [
    "solver5 = Solver_Ignore_Multiplicity(graph)\n",
    "solver5.solve()"
   ]
  }
 ],
 "metadata": {
  "kernelspec": {
   "display_name": "Python 3",
   "language": "python",
   "name": "python3"
  },
  "language_info": {
   "codemirror_mode": {
    "name": "ipython",
    "version": 3
   },
   "file_extension": ".py",
   "mimetype": "text/x-python",
   "name": "python",
   "nbconvert_exporter": "python",
   "pygments_lexer": "ipython3",
   "version": "3.10.12"
  }
 },
 "nbformat": 4,
 "nbformat_minor": 2
}
